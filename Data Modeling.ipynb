{
 "cells": [
  {
   "cell_type": "code",
   "execution_count": 25,
   "id": "0a4e1d3f",
   "metadata": {},
   "outputs": [],
   "source": [
    "import numpy as np\n",
    "import matplotlib.pyplot as plt\n",
    "import pandas as pd\n",
    "from sklearn.model_selection import train_test_split\n",
    "from sklearn.metrics import r2_score\n",
    "from sklearn.neighbors import KNeighborsRegressor\n",
    "from sklearn.ensemble import GradientBoostingRegressor\n",
    "from sklearn.linear_model import Lasso\n",
    "from sklearn.metrics import mean_squared_error\n",
    "import joblib"
   ]
  },
  {
   "cell_type": "code",
   "execution_count": 26,
   "id": "09b0aed1",
   "metadata": {},
   "outputs": [],
   "source": [
    "dataset = pd.read_csv('../Algoritmalar/computer-training.csv')"
   ]
  },
  {
   "cell_type": "code",
   "execution_count": 27,
   "id": "633fb602",
   "metadata": {},
   "outputs": [
    {
     "data": {
      "text/html": [
       "<div>\n",
       "<style scoped>\n",
       "    .dataframe tbody tr th:only-of-type {\n",
       "        vertical-align: middle;\n",
       "    }\n",
       "\n",
       "    .dataframe tbody tr th {\n",
       "        vertical-align: top;\n",
       "    }\n",
       "\n",
       "    .dataframe thead th {\n",
       "        text-align: right;\n",
       "    }\n",
       "</style>\n",
       "<table border=\"1\" class=\"dataframe\">\n",
       "  <thead>\n",
       "    <tr style=\"text-align: right;\">\n",
       "      <th></th>\n",
       "      <th>islemci_markasi</th>\n",
       "      <th>islemci_nesli</th>\n",
       "      <th>islemci_teknolojisi</th>\n",
       "      <th>islemci_cekirdek_sayisi</th>\n",
       "      <th>islemci_on_bellek</th>\n",
       "      <th>marka</th>\n",
       "      <th>price</th>\n",
       "    </tr>\n",
       "  </thead>\n",
       "  <tbody>\n",
       "    <tr>\n",
       "      <th>0</th>\n",
       "      <td>3</td>\n",
       "      <td>12.0</td>\n",
       "      <td>7</td>\n",
       "      <td>10.0</td>\n",
       "      <td>12.0</td>\n",
       "      <td>2</td>\n",
       "      <td>16999.0</td>\n",
       "    </tr>\n",
       "    <tr>\n",
       "      <th>1</th>\n",
       "      <td>5</td>\n",
       "      <td>12.0</td>\n",
       "      <td>41</td>\n",
       "      <td>8.0</td>\n",
       "      <td>20.0</td>\n",
       "      <td>8</td>\n",
       "      <td>5999.0</td>\n",
       "    </tr>\n",
       "    <tr>\n",
       "      <th>2</th>\n",
       "      <td>4</td>\n",
       "      <td>11.0</td>\n",
       "      <td>27</td>\n",
       "      <td>8.0</td>\n",
       "      <td>20.0</td>\n",
       "      <td>11</td>\n",
       "      <td>3499.0</td>\n",
       "    </tr>\n",
       "    <tr>\n",
       "      <th>3</th>\n",
       "      <td>3</td>\n",
       "      <td>12.0</td>\n",
       "      <td>7</td>\n",
       "      <td>8.0</td>\n",
       "      <td>12.0</td>\n",
       "      <td>11</td>\n",
       "      <td>16999.0</td>\n",
       "    </tr>\n",
       "    <tr>\n",
       "      <th>4</th>\n",
       "      <td>1</td>\n",
       "      <td>10.0</td>\n",
       "      <td>2</td>\n",
       "      <td>8.0</td>\n",
       "      <td>20.0</td>\n",
       "      <td>1</td>\n",
       "      <td>10799.0</td>\n",
       "    </tr>\n",
       "  </tbody>\n",
       "</table>\n",
       "</div>"
      ],
      "text/plain": [
       "   islemci_markasi  islemci_nesli  islemci_teknolojisi  \\\n",
       "0                3           12.0                    7   \n",
       "1                5           12.0                   41   \n",
       "2                4           11.0                   27   \n",
       "3                3           12.0                    7   \n",
       "4                1           10.0                    2   \n",
       "\n",
       "   islemci_cekirdek_sayisi  islemci_on_bellek  marka    price  \n",
       "0                     10.0               12.0      2  16999.0  \n",
       "1                      8.0               20.0      8   5999.0  \n",
       "2                      8.0               20.0     11   3499.0  \n",
       "3                      8.0               12.0     11  16999.0  \n",
       "4                      8.0               20.0      1  10799.0  "
      ]
     },
     "execution_count": 27,
     "metadata": {},
     "output_type": "execute_result"
    }
   ],
   "source": [
    "dataset.head()"
   ]
  },
  {
   "cell_type": "code",
   "execution_count": 28,
   "id": "2b706293",
   "metadata": {},
   "outputs": [],
   "source": [
    "# Bir fiyat tahmini yapıyoruz bir regresyon problemi bu\n",
    "X = dataset.iloc[:, 0:6].values # Tahmini etkileyecek sütunlar olarak parçalıyoruz. Bunları ise X e atıyoruz\n",
    "y = dataset.iloc[:, 6].values  # Tahmin edilecek sütun olarak parçalıyoruz. Tahmin edilecek sütunu Y ye atıyoruz\n",
    "y = y.reshape(-1, 1) \n",
    "\n",
    "# Sonrasında bunu train ve test olarak bölmemiz gerekiyor.\n",
    "# Yani 100 veri varsa 100 verinin 80'nini egitim için kullanacam 20 sini algoritmayı test etmek için kullanacam gib\n",
    "X_train, X_test, y_train, y_test = train_test_split(X, y, test_size = 0.3, random_state = 0)"
   ]
  },
  {
   "cell_type": "code",
   "execution_count": null,
   "id": "1a11ba8e",
   "metadata": {},
   "outputs": [],
   "source": []
  },
  {
   "cell_type": "markdown",
   "id": "b8b020e1",
   "metadata": {},
   "source": [
    "#  DecisionTreeRegressor"
   ]
  },
  {
   "cell_type": "code",
   "execution_count": 29,
   "id": "7d6a97fb",
   "metadata": {},
   "outputs": [],
   "source": [
    "from sklearn.tree import DecisionTreeRegressor\n",
    "regressor = DecisionTreeRegressor(random_state = 0)\n",
    "# Yukarıda boldugumuz X_train ve Y_train buraya aktararak yani bu verileri buraya aktararak bunları\n",
    "# egitim için kullanacagını belirtmiş oluyoruz\n",
    "regressor.fit(X_train, y_train) # fit fonksiyonu egitim fonksiyonu \n",
    "y_predDT = regressor.predict(X_test) # predict fonksiyonu ise test için kullanılıyor\n",
    "# predict de ise test icin ayırdıgımız veriyi verip y için tahmin degeri oluşuturuyoruz(y_predDT)"
   ]
  },
  {
   "cell_type": "code",
   "execution_count": 30,
   "id": "2a1c0884",
   "metadata": {},
   "outputs": [
    {
     "name": "stdout",
     "output_type": "stream",
     "text": [
      "R2: 0.36278881070655855\n",
      "RMSE: 22889.70555334877\n"
     ]
    }
   ],
   "source": [
    "\n",
    "# y tahmin verisi (y_predDT) ile aynı zamanda gercek y degerleri(y_test) arasındaki farkı bir metric \n",
    "# üzerinden ölçüp bunu yazdırıyoruz\n",
    "DT_RSCORE = r2_score(y_test, y_predDT)\n",
    "rmse = np.sqrt(mean_squared_error(y_test, y_pred))\n",
    "print(\"R2:\",ML_RSCORE)\n",
    "print(\"RMSE:\", rmse)\n",
    "# Train testten sonra MAE,RMSE,MSE gibi scorelar gerçek deger ile tahmin ettigi deger arasındaki farkın\n",
    "# ne kadar küçük ise o kadar  0'a yaklaşıyor  \n",
    "# Yani algoritmamız gercek deger ile tahmin ettigi deger arasındaki fark küçültmüşsse başarılı bir algoritmadır"
   ]
  },
  {
   "cell_type": "markdown",
   "id": "ddace346",
   "metadata": {},
   "source": [
    "# LinearRegression\n"
   ]
  },
  {
   "cell_type": "code",
   "execution_count": 31,
   "id": "1e3cc319",
   "metadata": {},
   "outputs": [
    {
     "name": "stdout",
     "output_type": "stream",
     "text": [
      "R2: 0.36278863180908805\n",
      "RMSE: 22889.708766498665\n"
     ]
    }
   ],
   "source": [
    "\n",
    "from sklearn.linear_model import LinearRegression\n",
    "regressor = LinearRegression()\n",
    "regressor.fit(X_train, y_train)\n",
    "y_pred = regressor.predict(X_test)\n",
    "ML_RSCORE = r2_score(y_test, y_pred)\n",
    "rmse = np.sqrt(mean_squared_error(y_test, y_pred))\n",
    "print(\"R2:\",ML_RSCORE)\n",
    "print(\"RMSE:\", rmse)\n"
   ]
  },
  {
   "cell_type": "markdown",
   "id": "63a8e8c5",
   "metadata": {},
   "source": [
    "# RandomForestRegressor"
   ]
  },
  {
   "cell_type": "code",
   "execution_count": 32,
   "id": "84b8c3a9",
   "metadata": {},
   "outputs": [
    {
     "name": "stderr",
     "output_type": "stream",
     "text": [
      "C:\\Users\\Skyby\\anaconda3\\Lib\\site-packages\\sklearn\\base.py:1151: DataConversionWarning: A column-vector y was passed when a 1d array was expected. Please change the shape of y to (n_samples,), for example using ravel().\n",
      "  return fit_method(estimator, *args, **kwargs)\n"
     ]
    },
    {
     "name": "stdout",
     "output_type": "stream",
     "text": [
      "R2: 0.36278863180908805\n",
      "RMSE: 22889.708766498665\n"
     ]
    }
   ],
   "source": [
    "from sklearn.ensemble import RandomForestRegressor\n",
    "regressor = RandomForestRegressor(n_estimators = 100, random_state = 0)\n",
    "regressor.fit(X_train, y_train)\n",
    "y_predRF = regressor.predict(X_test)\n",
    "\n",
    "RF_RSCORE = r2_score(y_test, y_predRF) \n",
    "rmse = np.sqrt(mean_squared_error(y_test, y_pred))\n",
    "print(\"R2:\",ML_RSCORE)\n",
    "print(\"RMSE:\", rmse)\n"
   ]
  },
  {
   "cell_type": "markdown",
   "id": "ee7e617a",
   "metadata": {},
   "source": [
    "# Support Vector Machine (SVM) algoritması"
   ]
  },
  {
   "cell_type": "code",
   "execution_count": 33,
   "id": "dc8e29c4",
   "metadata": {},
   "outputs": [
    {
     "name": "stdout",
     "output_type": "stream",
     "text": [
      "R2: -0.0481162229315113\n",
      "RMSE: 29356.429361005994\n"
     ]
    },
    {
     "name": "stderr",
     "output_type": "stream",
     "text": [
      "C:\\Users\\Skyby\\anaconda3\\Lib\\site-packages\\sklearn\\utils\\validation.py:1184: DataConversionWarning: A column-vector y was passed when a 1d array was expected. Please change the shape of y to (n_samples, ), for example using ravel().\n",
      "  y = column_or_1d(y, warn=True)\n"
     ]
    }
   ],
   "source": [
    "from sklearn.svm import SVR\n",
    "regressor = SVR(kernel = 'rbf',degree=3)\n",
    "regressor.fit(X_train, y_train)\n",
    "y_pred = regressor.predict(X_test)\n",
    "ML_RSCORE=r2_score(y_test, y_pred)\n",
    "rmse = np.sqrt(mean_squared_error(y_test, y_pred))\n",
    "print(\"R2:\",ML_RSCORE)\n",
    "print(\"RMSE:\", rmse)"
   ]
  },
  {
   "cell_type": "markdown",
   "id": "dac959c5",
   "metadata": {},
   "source": [
    "# K-En Yakın Komşu (KNN) regresyonu"
   ]
  },
  {
   "cell_type": "code",
   "execution_count": 34,
   "id": "8990b2e6",
   "metadata": {},
   "outputs": [
    {
     "name": "stdout",
     "output_type": "stream",
     "text": [
      "R2: 0.5212694387061234\n",
      "RMSE: 19840.11046547565\n"
     ]
    }
   ],
   "source": [
    "\n",
    "knn_regressor = KNeighborsRegressor(n_neighbors=5)  # n_neighbors: komşu sayısı\n",
    "\n",
    "# Modeli eğittim\n",
    "knn_regressor.fit(X_train, y_train)\n",
    "\n",
    "# Test seti üzerinde tahminler yaptım\n",
    "y_pred = knn_regressor.predict(X_test)\n",
    "\n",
    "# R2 skoru ile model performansını değerlendirdim\n",
    "ML_RSCORE = r2_score(y_test, y_pred)\n",
    "rmse = np.sqrt(mean_squared_error(y_test, y_pred))\n",
    "print(\"R2:\",ML_RSCORE)\n",
    "print(\"RMSE:\", rmse)"
   ]
  },
  {
   "cell_type": "markdown",
   "id": "45a23a71",
   "metadata": {},
   "source": [
    "# Gradient Boosting Regresyon modeli "
   ]
  },
  {
   "cell_type": "code",
   "execution_count": 35,
   "id": "e6c1dd70",
   "metadata": {},
   "outputs": [
    {
     "name": "stdout",
     "output_type": "stream",
     "text": [
      "R2: 0.5843622544066835\n",
      "RMSE: 18486.555531410337\n"
     ]
    }
   ],
   "source": [
    "gb_regressor = GradientBoostingRegressor(n_estimators=100, learning_rate=0.1, max_depth=3, random_state=0)\n",
    "\n",
    "\n",
    "gb_regressor.fit(X_train, y_train.ravel())  # ravel() kullanarak 1D array formatına çevir\n",
    "\n",
    "\n",
    "y_pred = gb_regressor.predict(X_test)\n",
    "\n",
    "\n",
    "ML_RSCORE = r2_score(y_test, y_pred)\n",
    "rmse = np.sqrt(mean_squared_error(y_test, y_pred))\n",
    "print(\"R2:\",ML_RSCORE)\n",
    "print(\"RMSE:\", rmse)"
   ]
  },
  {
   "cell_type": "markdown",
   "id": "a2fb0933",
   "metadata": {},
   "source": [
    "# Lasso Regresyon modeli"
   ]
  },
  {
   "cell_type": "code",
   "execution_count": 36,
   "id": "97e06330",
   "metadata": {},
   "outputs": [
    {
     "name": "stdout",
     "output_type": "stream",
     "text": [
      "R2: 0.36278881070655855\n",
      "RMSE: 22889.70555334877\n"
     ]
    }
   ],
   "source": [
    "# Lasso Regresyon modelini oluşturdum\n",
    "lasso_regressor = Lasso(alpha=0.1)  # alpha: düzenleme parametresi\n",
    "\n",
    "# Modeli eğitttim\n",
    "lasso_regressor.fit(X_train, y_train.ravel())  # ravel() kullanarak 1D array formatına çevir\n",
    "\n",
    "# Test seti üzerinde tahminler yaptım\n",
    "y_pred = lasso_regressor.predict(X_test)\n",
    "\n",
    "# R2 skoru ile model performansını değerlendirdim\n",
    "ML_RSCORE = r2_score(y_test, y_pred)\n",
    "rmse = np.sqrt(mean_squared_error(y_test, y_pred))\n",
    "print(\"R2:\",ML_RSCORE)\n",
    "print(\"RMSE:\", rmse)"
   ]
  },
  {
   "cell_type": "code",
   "execution_count": 37,
   "id": "1a1c1085",
   "metadata": {},
   "outputs": [
    {
     "data": {
      "text/plain": [
       "['../Servisleme/Gradient_Boosting_Regresyon_model.pkl']"
      ]
     },
     "execution_count": 37,
     "metadata": {},
     "output_type": "execute_result"
    }
   ],
   "source": [
    "\n",
    "joblib.dump(gb_regressor, \"../Servisleme/Gradient_Boosting_Regresyon_model.pkl\")"
   ]
  }
 ],
 "metadata": {
  "kernelspec": {
   "display_name": "Python 3 (ipykernel)",
   "language": "python",
   "name": "python3"
  },
  "language_info": {
   "codemirror_mode": {
    "name": "ipython",
    "version": 3
   },
   "file_extension": ".py",
   "mimetype": "text/x-python",
   "name": "python",
   "nbconvert_exporter": "python",
   "pygments_lexer": "ipython3",
   "version": "3.11.5"
  }
 },
 "nbformat": 4,
 "nbformat_minor": 5
}
